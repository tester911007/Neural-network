{
  "nbformat": 4,
  "nbformat_minor": 0,
  "metadata": {
    "colab": {
      "name": "ОЛ.ipynb",
      "provenance": [],
      "authorship_tag": "ABX9TyPbAnWubIjJk+UUS8R+dcMq",
      "include_colab_link": true
    },
    "kernelspec": {
      "name": "python3",
      "display_name": "Python 3"
    },
    "language_info": {
      "name": "python"
    }
  },
  "cells": [
    {
      "cell_type": "markdown",
      "metadata": {
        "id": "view-in-github",
        "colab_type": "text"
      },
      "source": [
        "<a href=\"https://colab.research.google.com/github/tester911007/Neural-network/blob/main/%D0%9E%D0%9B.ipynb\" target=\"_parent\"><img src=\"https://colab.research.google.com/assets/colab-badge.svg\" alt=\"Open In Colab\"/></a>"
      ]
    },
    {
      "cell_type": "code",
      "source": [
        "import pandas as pd\n",
        "from google.colab import files\n",
        "\n",
        "\n",
        "filename = list(files.upload().keys())[0]"
      ],
      "metadata": {
        "id": "qtR140jopW-n"
      },
      "execution_count": null,
      "outputs": []
    },
    {
      "cell_type": "code",
      "source": [
        "bad_table = pd.read_excel(filename, header=5)\n",
        "df = bad_table[bad_table.columns.drop(list(bad_table.filter(regex='Unnamed')))]\n",
        "df = df.dropna(subset = ['mtb_power_gland_design']).reset_index()\n",
        "\n",
        "for i in range(1, len(df)):\n",
        "    if df.loc[i, 132:'mtb_external_earthing_terminals'].isnull().all():\n",
        "        df.loc[i, :'mtb_external_earthing_terminals'] = df.loc[i - 1, :'mtb_external_earthing_terminals']"
      ],
      "metadata": {
        "id": "cXy0krSHp17N"
      },
      "execution_count": null,
      "outputs": []
    },
    {
      "cell_type": "code",
      "source": [
        "columns = ['motor_design_code_depending_on_accessories'] + df.columns.to_list()[df.columns.to_list().index('explosion_protection_marking'):]\n",
        "height_list = [132, 160, 180, 200, 225, 250, 280, 315]\n",
        "\n",
        "df_list = []\n",
        "for col in height_list:\n",
        "    df_list.append(pd.concat([df.loc[~df[col].isnull(), col], df.loc[~df[col].isnull(), 'explosion_protection_marking':]], axis=1).set_axis(columns, axis=1))\n",
        "    df_list[-1].insert(1, 'rotation_axis_height', col)\n",
        "\n",
        "ideal_table = pd.concat(df_list)\n",
        "ideal_table.drop_duplicates(keep=False, inplace=True)\n",
        "ideal_table.replace('\\n', '', regex=True, inplace=True)"
      ],
      "metadata": {
        "id": "jeQznlOy-pb6"
      },
      "execution_count": null,
      "outputs": []
    },
    {
      "cell_type": "code",
      "source": [
        "final_filename = 'output.xlsx'\n",
        "ideal_table.to_excel(final_filename) \n",
        "files.download(final_filename)"
      ],
      "metadata": {
        "colab": {
          "base_uri": "https://localhost:8080/",
          "height": 17
        },
        "id": "Cgaqhe4l-pho",
        "outputId": "88833b49-f876-43e6-d6c9-57bf246b54fa"
      },
      "execution_count": null,
      "outputs": [
        {
          "output_type": "display_data",
          "data": {
            "text/plain": [
              "<IPython.core.display.Javascript object>"
            ],
            "application/javascript": [
              "\n",
              "    async function download(id, filename, size) {\n",
              "      if (!google.colab.kernel.accessAllowed) {\n",
              "        return;\n",
              "      }\n",
              "      const div = document.createElement('div');\n",
              "      const label = document.createElement('label');\n",
              "      label.textContent = `Downloading \"${filename}\": `;\n",
              "      div.appendChild(label);\n",
              "      const progress = document.createElement('progress');\n",
              "      progress.max = size;\n",
              "      div.appendChild(progress);\n",
              "      document.body.appendChild(div);\n",
              "\n",
              "      const buffers = [];\n",
              "      let downloaded = 0;\n",
              "\n",
              "      const channel = await google.colab.kernel.comms.open(id);\n",
              "      // Send a message to notify the kernel that we're ready.\n",
              "      channel.send({})\n",
              "\n",
              "      for await (const message of channel.messages) {\n",
              "        // Send a message to notify the kernel that we're ready.\n",
              "        channel.send({})\n",
              "        if (message.buffers) {\n",
              "          for (const buffer of message.buffers) {\n",
              "            buffers.push(buffer);\n",
              "            downloaded += buffer.byteLength;\n",
              "            progress.value = downloaded;\n",
              "          }\n",
              "        }\n",
              "      }\n",
              "      const blob = new Blob(buffers, {type: 'application/binary'});\n",
              "      const a = document.createElement('a');\n",
              "      a.href = window.URL.createObjectURL(blob);\n",
              "      a.download = filename;\n",
              "      div.appendChild(a);\n",
              "      a.click();\n",
              "      div.remove();\n",
              "    }\n",
              "  "
            ]
          },
          "metadata": {}
        },
        {
          "output_type": "display_data",
          "data": {
            "text/plain": [
              "<IPython.core.display.Javascript object>"
            ],
            "application/javascript": [
              "download(\"download_00086ba8-9c65-4067-9d0b-0846bdcc9a35\", \"output.xlsx\", 27569)"
            ]
          },
          "metadata": {}
        }
      ]
    }
  ]
}